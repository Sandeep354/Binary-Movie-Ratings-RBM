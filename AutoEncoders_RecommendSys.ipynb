{
  "nbformat": 4,
  "nbformat_minor": 0,
  "metadata": {
    "colab": {
      "name": "AutoEncoders-RecommendSys.ipynb",
      "provenance": [],
      "collapsed_sections": [],
      "toc_visible": true,
      "include_colab_link": true
    },
    "kernelspec": {
      "name": "python3",
      "display_name": "Python 3"
    },
    "accelerator": "GPU"
  },
  "cells": [
    {
      "cell_type": "markdown",
      "metadata": {
        "id": "view-in-github",
        "colab_type": "text"
      },
      "source": [
        "<a href=\"https://colab.research.google.com/github/Sandeep354/Movie-Ratings-RBM-AE/blob/main/AutoEncoders_RecommendSys.ipynb\" target=\"_parent\"><img src=\"https://colab.research.google.com/assets/colab-badge.svg\" alt=\"Open In Colab\"/></a>"
      ]
    },
    {
      "cell_type": "markdown",
      "metadata": {
        "id": "K4f4JG1gdKqj"
      },
      "source": [
        "#AutoEncoders"
      ]
    },
    {
      "cell_type": "markdown",
      "metadata": {
        "id": "1jbiqOK7dLGG"
      },
      "source": [
        "##Downloading the dataset"
      ]
    },
    {
      "cell_type": "markdown",
      "metadata": {
        "id": "XL5MEkLcfRD2"
      },
      "source": [
        "###ML-100K"
      ]
    },
    {
      "cell_type": "code",
      "metadata": {
        "id": "n4tNoISHJuHS",
        "outputId": "f51f82aa-271d-4213-a5b1-3c8ac79047a3",
        "colab": {
          "base_uri": "https://localhost:8080/"
        }
      },
      "source": [
        "!wget \"http://files.grouplens.org/datasets/movielens/ml-100k.zip\"\n",
        "!unzip ml-100k.zip\n",
        "!ls"
      ],
      "execution_count": 41,
      "outputs": [
        {
          "output_type": "stream",
          "text": [
            "--2020-10-31 16:48:34--  http://files.grouplens.org/datasets/movielens/ml-100k.zip\n",
            "Resolving files.grouplens.org (files.grouplens.org)... 128.101.65.152\n",
            "Connecting to files.grouplens.org (files.grouplens.org)|128.101.65.152|:80... connected.\n",
            "HTTP request sent, awaiting response... 200 OK\n",
            "Length: 4924029 (4.7M) [application/zip]\n",
            "Saving to: ‘ml-100k.zip.2’\n",
            "\n",
            "ml-100k.zip.2       100%[===================>]   4.70M  22.6MB/s    in 0.2s    \n",
            "\n",
            "2020-10-31 16:48:35 (22.6 MB/s) - ‘ml-100k.zip.2’ saved [4924029/4924029]\n",
            "\n",
            "Archive:  ml-100k.zip\n",
            "replace ml-100k/allbut.pl? [y]es, [n]o, [A]ll, [N]one, [r]ename: ml-100k      ml-100k.zip.1  ml-1m      ml-1m.zip.1\n",
            "ml-100k.zip  ml-100k.zip.2  ml-1m.zip  sample_data\n"
          ],
          "name": "stdout"
        }
      ]
    },
    {
      "cell_type": "markdown",
      "metadata": {
        "id": "9Xis6ldDfTs6"
      },
      "source": [
        "###ML-1M"
      ]
    },
    {
      "cell_type": "code",
      "metadata": {
        "id": "RDRExqjLJzMD",
        "outputId": "52b1db92-65fa-4acf-fe8e-8602ff341259",
        "colab": {
          "base_uri": "https://localhost:8080/"
        }
      },
      "source": [
        "!wget \"http://files.grouplens.org/datasets/movielens/ml-1m.zip\"\n",
        "!unzip ml-1m.zip\n",
        "!ls"
      ],
      "execution_count": 42,
      "outputs": [
        {
          "output_type": "stream",
          "text": [
            "--2020-10-31 16:48:41--  http://files.grouplens.org/datasets/movielens/ml-1m.zip\n",
            "Resolving files.grouplens.org (files.grouplens.org)... 128.101.65.152\n",
            "Connecting to files.grouplens.org (files.grouplens.org)|128.101.65.152|:80... connected.\n",
            "HTTP request sent, awaiting response... 200 OK\n",
            "Length: 5917549 (5.6M) [application/zip]\n",
            "Saving to: ‘ml-1m.zip.2’\n",
            "\n",
            "ml-1m.zip.2         100%[===================>]   5.64M  25.5MB/s    in 0.2s    \n",
            "\n",
            "2020-10-31 16:48:41 (25.5 MB/s) - ‘ml-1m.zip.2’ saved [5917549/5917549]\n",
            "\n",
            "Archive:  ml-1m.zip\n",
            "replace ml-1m/movies.dat? [y]es, [n]o, [A]ll, [N]one, [r]ename: ml-100k      ml-100k.zip.1  ml-1m      ml-1m.zip.1  sample_data\n",
            "ml-100k.zip  ml-100k.zip.2  ml-1m.zip  ml-1m.zip.2\n"
          ],
          "name": "stdout"
        }
      ]
    },
    {
      "cell_type": "markdown",
      "metadata": {
        "id": "EOBJ8UCXdY0g"
      },
      "source": [
        "##Importing the libraries"
      ]
    },
    {
      "cell_type": "code",
      "metadata": {
        "id": "WeLk2ilbJ3G8"
      },
      "source": [
        "import numpy as np\n",
        "import pandas as pd\n",
        "import torch\n",
        "import torch.nn as nn \n",
        "import torch.nn.parallel\n",
        "import torch.optim as optim\n",
        "import torch.utils.data\n",
        "from torch.autograd import Variable"
      ],
      "execution_count": 43,
      "outputs": []
    },
    {
      "cell_type": "markdown",
      "metadata": {
        "id": "pM04FyMudkoK"
      },
      "source": [
        "## Importing the dataset\n"
      ]
    },
    {
      "cell_type": "code",
      "metadata": {
        "id": "pC2GsG-VKRNs"
      },
      "source": [
        "movies = pd.read_csv(\"ml-1m/movies.dat\", \n",
        "                     sep = '::',\n",
        "                     header = None,\n",
        "                     engine = 'python',\n",
        "                     encoding = 'latin-1')"
      ],
      "execution_count": 44,
      "outputs": []
    },
    {
      "cell_type": "code",
      "metadata": {
        "id": "2suYHVx2LEwS",
        "outputId": "66cb4b90-fd0a-4a51-f063-803102a0cd5d",
        "colab": {
          "base_uri": "https://localhost:8080/",
          "height": 202
        }
      },
      "source": [
        "movies.head()"
      ],
      "execution_count": 45,
      "outputs": [
        {
          "output_type": "execute_result",
          "data": {
            "text/html": [
              "<div>\n",
              "<style scoped>\n",
              "    .dataframe tbody tr th:only-of-type {\n",
              "        vertical-align: middle;\n",
              "    }\n",
              "\n",
              "    .dataframe tbody tr th {\n",
              "        vertical-align: top;\n",
              "    }\n",
              "\n",
              "    .dataframe thead th {\n",
              "        text-align: right;\n",
              "    }\n",
              "</style>\n",
              "<table border=\"1\" class=\"dataframe\">\n",
              "  <thead>\n",
              "    <tr style=\"text-align: right;\">\n",
              "      <th></th>\n",
              "      <th>0</th>\n",
              "      <th>1</th>\n",
              "      <th>2</th>\n",
              "    </tr>\n",
              "  </thead>\n",
              "  <tbody>\n",
              "    <tr>\n",
              "      <th>0</th>\n",
              "      <td>1</td>\n",
              "      <td>Toy Story (1995)</td>\n",
              "      <td>Animation|Children's|Comedy</td>\n",
              "    </tr>\n",
              "    <tr>\n",
              "      <th>1</th>\n",
              "      <td>2</td>\n",
              "      <td>Jumanji (1995)</td>\n",
              "      <td>Adventure|Children's|Fantasy</td>\n",
              "    </tr>\n",
              "    <tr>\n",
              "      <th>2</th>\n",
              "      <td>3</td>\n",
              "      <td>Grumpier Old Men (1995)</td>\n",
              "      <td>Comedy|Romance</td>\n",
              "    </tr>\n",
              "    <tr>\n",
              "      <th>3</th>\n",
              "      <td>4</td>\n",
              "      <td>Waiting to Exhale (1995)</td>\n",
              "      <td>Comedy|Drama</td>\n",
              "    </tr>\n",
              "    <tr>\n",
              "      <th>4</th>\n",
              "      <td>5</td>\n",
              "      <td>Father of the Bride Part II (1995)</td>\n",
              "      <td>Comedy</td>\n",
              "    </tr>\n",
              "  </tbody>\n",
              "</table>\n",
              "</div>"
            ],
            "text/plain": [
              "   0                                   1                             2\n",
              "0  1                    Toy Story (1995)   Animation|Children's|Comedy\n",
              "1  2                      Jumanji (1995)  Adventure|Children's|Fantasy\n",
              "2  3             Grumpier Old Men (1995)                Comedy|Romance\n",
              "3  4            Waiting to Exhale (1995)                  Comedy|Drama\n",
              "4  5  Father of the Bride Part II (1995)                        Comedy"
            ]
          },
          "metadata": {
            "tags": []
          },
          "execution_count": 45
        }
      ]
    },
    {
      "cell_type": "code",
      "metadata": {
        "id": "_l6J4jx3LVMr"
      },
      "source": [
        "users = pd.read_csv(\"ml-1m/users.dat\", \n",
        "                     sep = '::',\n",
        "                     header = None,\n",
        "                     engine = 'python',\n",
        "                     encoding = 'latin-1')"
      ],
      "execution_count": 46,
      "outputs": []
    },
    {
      "cell_type": "code",
      "metadata": {
        "id": "9ay6S7lrLtY5",
        "outputId": "56fc88a0-f373-411c-da19-99c49b1c7dac",
        "colab": {
          "base_uri": "https://localhost:8080/",
          "height": 202
        }
      },
      "source": [
        "users.head()"
      ],
      "execution_count": 47,
      "outputs": [
        {
          "output_type": "execute_result",
          "data": {
            "text/html": [
              "<div>\n",
              "<style scoped>\n",
              "    .dataframe tbody tr th:only-of-type {\n",
              "        vertical-align: middle;\n",
              "    }\n",
              "\n",
              "    .dataframe tbody tr th {\n",
              "        vertical-align: top;\n",
              "    }\n",
              "\n",
              "    .dataframe thead th {\n",
              "        text-align: right;\n",
              "    }\n",
              "</style>\n",
              "<table border=\"1\" class=\"dataframe\">\n",
              "  <thead>\n",
              "    <tr style=\"text-align: right;\">\n",
              "      <th></th>\n",
              "      <th>0</th>\n",
              "      <th>1</th>\n",
              "      <th>2</th>\n",
              "      <th>3</th>\n",
              "      <th>4</th>\n",
              "    </tr>\n",
              "  </thead>\n",
              "  <tbody>\n",
              "    <tr>\n",
              "      <th>0</th>\n",
              "      <td>1</td>\n",
              "      <td>F</td>\n",
              "      <td>1</td>\n",
              "      <td>10</td>\n",
              "      <td>48067</td>\n",
              "    </tr>\n",
              "    <tr>\n",
              "      <th>1</th>\n",
              "      <td>2</td>\n",
              "      <td>M</td>\n",
              "      <td>56</td>\n",
              "      <td>16</td>\n",
              "      <td>70072</td>\n",
              "    </tr>\n",
              "    <tr>\n",
              "      <th>2</th>\n",
              "      <td>3</td>\n",
              "      <td>M</td>\n",
              "      <td>25</td>\n",
              "      <td>15</td>\n",
              "      <td>55117</td>\n",
              "    </tr>\n",
              "    <tr>\n",
              "      <th>3</th>\n",
              "      <td>4</td>\n",
              "      <td>M</td>\n",
              "      <td>45</td>\n",
              "      <td>7</td>\n",
              "      <td>02460</td>\n",
              "    </tr>\n",
              "    <tr>\n",
              "      <th>4</th>\n",
              "      <td>5</td>\n",
              "      <td>M</td>\n",
              "      <td>25</td>\n",
              "      <td>20</td>\n",
              "      <td>55455</td>\n",
              "    </tr>\n",
              "  </tbody>\n",
              "</table>\n",
              "</div>"
            ],
            "text/plain": [
              "   0  1   2   3      4\n",
              "0  1  F   1  10  48067\n",
              "1  2  M  56  16  70072\n",
              "2  3  M  25  15  55117\n",
              "3  4  M  45   7  02460\n",
              "4  5  M  25  20  55455"
            ]
          },
          "metadata": {
            "tags": []
          },
          "execution_count": 47
        }
      ]
    },
    {
      "cell_type": "code",
      "metadata": {
        "id": "-KcIiTSELxk0",
        "outputId": "0d9f50e9-f5a6-475b-e824-83ea8dd191ce",
        "colab": {
          "base_uri": "https://localhost:8080/",
          "height": 202
        }
      },
      "source": [
        "ratings = pd.read_csv(\"ml-1m/ratings.dat\", \n",
        "                     sep = '::',\n",
        "                     header = None,\n",
        "                     engine = 'python',\n",
        "                     encoding = 'latin-1')\n",
        "ratings.head()"
      ],
      "execution_count": 48,
      "outputs": [
        {
          "output_type": "execute_result",
          "data": {
            "text/html": [
              "<div>\n",
              "<style scoped>\n",
              "    .dataframe tbody tr th:only-of-type {\n",
              "        vertical-align: middle;\n",
              "    }\n",
              "\n",
              "    .dataframe tbody tr th {\n",
              "        vertical-align: top;\n",
              "    }\n",
              "\n",
              "    .dataframe thead th {\n",
              "        text-align: right;\n",
              "    }\n",
              "</style>\n",
              "<table border=\"1\" class=\"dataframe\">\n",
              "  <thead>\n",
              "    <tr style=\"text-align: right;\">\n",
              "      <th></th>\n",
              "      <th>0</th>\n",
              "      <th>1</th>\n",
              "      <th>2</th>\n",
              "      <th>3</th>\n",
              "    </tr>\n",
              "  </thead>\n",
              "  <tbody>\n",
              "    <tr>\n",
              "      <th>0</th>\n",
              "      <td>1</td>\n",
              "      <td>1193</td>\n",
              "      <td>5</td>\n",
              "      <td>978300760</td>\n",
              "    </tr>\n",
              "    <tr>\n",
              "      <th>1</th>\n",
              "      <td>1</td>\n",
              "      <td>661</td>\n",
              "      <td>3</td>\n",
              "      <td>978302109</td>\n",
              "    </tr>\n",
              "    <tr>\n",
              "      <th>2</th>\n",
              "      <td>1</td>\n",
              "      <td>914</td>\n",
              "      <td>3</td>\n",
              "      <td>978301968</td>\n",
              "    </tr>\n",
              "    <tr>\n",
              "      <th>3</th>\n",
              "      <td>1</td>\n",
              "      <td>3408</td>\n",
              "      <td>4</td>\n",
              "      <td>978300275</td>\n",
              "    </tr>\n",
              "    <tr>\n",
              "      <th>4</th>\n",
              "      <td>1</td>\n",
              "      <td>2355</td>\n",
              "      <td>5</td>\n",
              "      <td>978824291</td>\n",
              "    </tr>\n",
              "  </tbody>\n",
              "</table>\n",
              "</div>"
            ],
            "text/plain": [
              "   0     1  2          3\n",
              "0  1  1193  5  978300760\n",
              "1  1   661  3  978302109\n",
              "2  1   914  3  978301968\n",
              "3  1  3408  4  978300275\n",
              "4  1  2355  5  978824291"
            ]
          },
          "metadata": {
            "tags": []
          },
          "execution_count": 48
        }
      ]
    },
    {
      "cell_type": "code",
      "metadata": {
        "id": "669UhtIrMBNa",
        "outputId": "c1810450-49d6-4819-ce9e-6dae24c72557",
        "colab": {
          "base_uri": "https://localhost:8080/"
        }
      },
      "source": [
        "ratings.isna().sum()"
      ],
      "execution_count": 49,
      "outputs": [
        {
          "output_type": "execute_result",
          "data": {
            "text/plain": [
              "0    0\n",
              "1    0\n",
              "2    0\n",
              "3    0\n",
              "dtype: int64"
            ]
          },
          "metadata": {
            "tags": []
          },
          "execution_count": 49
        }
      ]
    },
    {
      "cell_type": "markdown",
      "metadata": {
        "id": "yTIbE2tkdkwP"
      },
      "source": [
        "## Preparing the training set and the test set\n"
      ]
    },
    {
      "cell_type": "code",
      "metadata": {
        "id": "TsNQY7s4Mpb6"
      },
      "source": [
        "training_set = pd.read_csv(\"ml-100k/u1.base\", delimiter = '\\t')"
      ],
      "execution_count": 50,
      "outputs": []
    },
    {
      "cell_type": "code",
      "metadata": {
        "id": "mX_Vbr1jNaCd",
        "outputId": "a7a94591-92ee-40d6-82f4-a1aaf79ffaa8",
        "colab": {
          "base_uri": "https://localhost:8080/",
          "height": 202
        }
      },
      "source": [
        "training_set.head()"
      ],
      "execution_count": 51,
      "outputs": [
        {
          "output_type": "execute_result",
          "data": {
            "text/html": [
              "<div>\n",
              "<style scoped>\n",
              "    .dataframe tbody tr th:only-of-type {\n",
              "        vertical-align: middle;\n",
              "    }\n",
              "\n",
              "    .dataframe tbody tr th {\n",
              "        vertical-align: top;\n",
              "    }\n",
              "\n",
              "    .dataframe thead th {\n",
              "        text-align: right;\n",
              "    }\n",
              "</style>\n",
              "<table border=\"1\" class=\"dataframe\">\n",
              "  <thead>\n",
              "    <tr style=\"text-align: right;\">\n",
              "      <th></th>\n",
              "      <th>1</th>\n",
              "      <th>1.1</th>\n",
              "      <th>5</th>\n",
              "      <th>874965758</th>\n",
              "    </tr>\n",
              "  </thead>\n",
              "  <tbody>\n",
              "    <tr>\n",
              "      <th>0</th>\n",
              "      <td>1</td>\n",
              "      <td>2</td>\n",
              "      <td>3</td>\n",
              "      <td>876893171</td>\n",
              "    </tr>\n",
              "    <tr>\n",
              "      <th>1</th>\n",
              "      <td>1</td>\n",
              "      <td>3</td>\n",
              "      <td>4</td>\n",
              "      <td>878542960</td>\n",
              "    </tr>\n",
              "    <tr>\n",
              "      <th>2</th>\n",
              "      <td>1</td>\n",
              "      <td>4</td>\n",
              "      <td>3</td>\n",
              "      <td>876893119</td>\n",
              "    </tr>\n",
              "    <tr>\n",
              "      <th>3</th>\n",
              "      <td>1</td>\n",
              "      <td>5</td>\n",
              "      <td>3</td>\n",
              "      <td>889751712</td>\n",
              "    </tr>\n",
              "    <tr>\n",
              "      <th>4</th>\n",
              "      <td>1</td>\n",
              "      <td>7</td>\n",
              "      <td>4</td>\n",
              "      <td>875071561</td>\n",
              "    </tr>\n",
              "  </tbody>\n",
              "</table>\n",
              "</div>"
            ],
            "text/plain": [
              "   1  1.1  5  874965758\n",
              "0  1    2  3  876893171\n",
              "1  1    3  4  878542960\n",
              "2  1    4  3  876893119\n",
              "3  1    5  3  889751712\n",
              "4  1    7  4  875071561"
            ]
          },
          "metadata": {
            "tags": []
          },
          "execution_count": 51
        }
      ]
    },
    {
      "cell_type": "code",
      "metadata": {
        "id": "77XI-bTBOLa2"
      },
      "source": [
        "# Convert into Array\n",
        "training_set = np.array(training_set, dtype = \"int\")"
      ],
      "execution_count": 52,
      "outputs": []
    },
    {
      "cell_type": "code",
      "metadata": {
        "id": "YV-uKSHbRa9S",
        "outputId": "778008a1-076b-490c-fa10-95433218ff2a",
        "colab": {
          "base_uri": "https://localhost:8080/"
        }
      },
      "source": [
        "len(training_set)"
      ],
      "execution_count": 53,
      "outputs": [
        {
          "output_type": "execute_result",
          "data": {
            "text/plain": [
              "79999"
            ]
          },
          "metadata": {
            "tags": []
          },
          "execution_count": 53
        }
      ]
    },
    {
      "cell_type": "code",
      "metadata": {
        "id": "Jw_uRoNVN3xk"
      },
      "source": [
        "test_set = pd.read_csv(\"ml-100k/u1.test\", delimiter = '\\t')\n",
        "test_set = np.array(test_set, dtype = \"int\")"
      ],
      "execution_count": 54,
      "outputs": []
    },
    {
      "cell_type": "markdown",
      "metadata": {
        "id": "zCf8HjSydk4s"
      },
      "source": [
        "## Getting the number of users and movies\n"
      ]
    },
    {
      "cell_type": "code",
      "metadata": {
        "id": "WIyhYXkpOsUj",
        "outputId": "a28915c5-6a06-4770-cb66-48c9668ecde0",
        "colab": {
          "base_uri": "https://localhost:8080/"
        }
      },
      "source": [
        "nb_users = int(max(max(training_set[:,0]), max(test_set[:,0])))\n",
        "nb_users"
      ],
      "execution_count": 55,
      "outputs": [
        {
          "output_type": "execute_result",
          "data": {
            "text/plain": [
              "943"
            ]
          },
          "metadata": {
            "tags": []
          },
          "execution_count": 55
        }
      ]
    },
    {
      "cell_type": "code",
      "metadata": {
        "id": "yDHlYQ5AQRn3",
        "outputId": "e02d960a-03cf-4222-f6ea-5097358204de",
        "colab": {
          "base_uri": "https://localhost:8080/"
        }
      },
      "source": [
        "nb_movies = int(max(max(training_set[:,1]), max(test_set[:,1])))\n",
        "nb_movies"
      ],
      "execution_count": 56,
      "outputs": [
        {
          "output_type": "execute_result",
          "data": {
            "text/plain": [
              "1682"
            ]
          },
          "metadata": {
            "tags": []
          },
          "execution_count": 56
        }
      ]
    },
    {
      "cell_type": "markdown",
      "metadata": {
        "id": "J-w4-hVidlAm"
      },
      "source": [
        "## Converting the data into an array with users in lines and movies in columns\n"
      ]
    },
    {
      "cell_type": "code",
      "metadata": {
        "id": "IGzFr4UpQq88"
      },
      "source": [
        "def convert(data):\n",
        "  new_data = []\n",
        "  for id_user in range(1, nb_users + 1):\n",
        "    id_movies = data[:,1][data[:,0] == id_user]\n",
        "    id_ratings = data[:,2][data[:,0] == id_user]\n",
        "    # Make the unrated movies as zeros\n",
        "    ratings = np.zeros(nb_movies)\n",
        "    ratings[id_movies - 1] = id_ratings\n",
        "    new_data.append(list(ratings))\n",
        "  return new_data"
      ],
      "execution_count": 57,
      "outputs": []
    },
    {
      "cell_type": "code",
      "metadata": {
        "id": "hA4G4msFZtfu"
      },
      "source": [
        "training_set = convert(training_set)\n",
        "test_set = convert(test_set)"
      ],
      "execution_count": 58,
      "outputs": []
    },
    {
      "cell_type": "markdown",
      "metadata": {
        "id": "AMmhuUpldlHo"
      },
      "source": [
        "## Converting the data into Torch tensors\n"
      ]
    },
    {
      "cell_type": "code",
      "metadata": {
        "id": "YQHmAtvObFyp"
      },
      "source": [
        "# NumpyArray --> TorchTensor\n",
        "training_set = torch.FloatTensor(training_set)\n",
        "test_set = torch.FloatTensor(test_set)"
      ],
      "execution_count": 59,
      "outputs": []
    },
    {
      "cell_type": "markdown",
      "metadata": {
        "id": "6kkL8NkkdlZj"
      },
      "source": [
        "## Creating the architecture of the Neural Network\n"
      ]
    },
    {
      "cell_type": "code",
      "metadata": {
        "id": "YoeUYdEaR_bk"
      },
      "source": [
        "# SAE - Stacked Auto Encoders\n",
        "\n",
        "class SAE(nn.Module):\n",
        "\n",
        "  def __init__(self, ):\n",
        "    # To inherit methods of `parent class : nn.Module`\n",
        "    super(SAE, self).__init__()\n",
        "\n",
        "    # Full Connection (associated with the parent class) with the Linear Class of torch.nn\n",
        "    # FC1 --> Input to first encoded/hidden layer (**20 neurons taken for example - can be adjusted**)\n",
        "    self.fc1 = nn.Linear(in_features = nb_movies, out_features = 20)\n",
        "    self.fc2 = nn.Linear(in_features = 20, out_features = 10)\n",
        "    self.fc3 = nn.Linear(in_features = 10, out_features = 20)\n",
        "    # Last layer should have same dimensions as input vector : nb_movies\n",
        "    self.fc4 = nn.Linear(in_features = 20, out_features = nb_movies)\n",
        "\n",
        "    # Activation Function\n",
        "    self.activation = nn.Sigmoid()\n",
        "\n",
        "  # Encoding and Decoding the input vector\n",
        "  def forward(self, x):\n",
        "    # First encoded vector\n",
        "    x = self.activation(self.fc1(x))\n",
        "    # Second encoded vector\n",
        "    x = self.activation(self.fc2(x))\n",
        "    # Now decoding - part I\n",
        "    x = self.activation(self.fc3(x))\n",
        "    # Decoding - part II\n",
        "    x = self.fc4(x)\n",
        "    return x\n",
        "\n",
        "sae = SAE()\n",
        "criterion = nn.MSELoss()\n",
        "optimizer = optim.RMSprop(sae.parameters(), lr = 0.01, weight_decay = 0.5)"
      ],
      "execution_count": 60,
      "outputs": []
    },
    {
      "cell_type": "markdown",
      "metadata": {
        "id": "7gy59alAdloL"
      },
      "source": [
        "## Training the SAE\n"
      ]
    },
    {
      "cell_type": "code",
      "metadata": {
        "id": "VjUyzR-KbBrb",
        "outputId": "36cd154f-6299-4816-8d2c-64f474381724",
        "colab": {
          "base_uri": "https://localhost:8080/"
        }
      },
      "source": [
        "nb_epoch = 200\n",
        "for epoch in range(1, nb_epoch + 1):\n",
        "  train_loss = 0\n",
        "  s = 0.\n",
        "  for id_user in range(nb_users):\n",
        "    input = Variable(training_set[id_user]).unsqueeze(0)\n",
        "    target = input.clone()\n",
        "    if torch.sum(target.data > 0) > 0:\n",
        "      output = sae(input)\n",
        "      target.require_grad = False\n",
        "      output[target == 0] = 0\n",
        "      loss = criterion(output, target)\n",
        "      mean_corrector = nb_movies/float(torch.sum(target.data > 0) + 1e-10)\n",
        "      loss.backward()\n",
        "      train_loss += np.sqrt(loss.data*mean_corrector)\n",
        "      s += 1.\n",
        "      optimizer.step()\n",
        "\n",
        "  print ('epoch: ' + str(epoch) + ' loss: ' + str(train_loss/s))"
      ],
      "execution_count": 62,
      "outputs": [
        {
          "output_type": "stream",
          "text": [
            "epoch: 1 loss: tensor(1.7658)\n",
            "epoch: 2 loss: tensor(1.0965)\n",
            "epoch: 3 loss: tensor(1.0533)\n",
            "epoch: 4 loss: tensor(1.0384)\n",
            "epoch: 5 loss: tensor(1.0309)\n",
            "epoch: 6 loss: tensor(1.0267)\n",
            "epoch: 7 loss: tensor(1.0238)\n",
            "epoch: 8 loss: tensor(1.0221)\n",
            "epoch: 9 loss: tensor(1.0206)\n",
            "epoch: 10 loss: tensor(1.0197)\n",
            "epoch: 11 loss: tensor(1.0189)\n",
            "epoch: 12 loss: tensor(1.0182)\n",
            "epoch: 13 loss: tensor(1.0180)\n",
            "epoch: 14 loss: tensor(1.0173)\n",
            "epoch: 15 loss: tensor(1.0173)\n",
            "epoch: 16 loss: tensor(1.0169)\n",
            "epoch: 17 loss: tensor(1.0169)\n",
            "epoch: 18 loss: tensor(1.0166)\n",
            "epoch: 19 loss: tensor(1.0163)\n",
            "epoch: 20 loss: tensor(1.0162)\n",
            "epoch: 21 loss: tensor(1.0162)\n",
            "epoch: 22 loss: tensor(1.0162)\n",
            "epoch: 23 loss: tensor(1.0161)\n",
            "epoch: 24 loss: tensor(1.0157)\n",
            "epoch: 25 loss: tensor(1.0157)\n",
            "epoch: 26 loss: tensor(1.0157)\n",
            "epoch: 27 loss: tensor(1.0154)\n",
            "epoch: 28 loss: tensor(1.0152)\n",
            "epoch: 29 loss: tensor(1.0130)\n",
            "epoch: 30 loss: tensor(1.0115)\n",
            "epoch: 31 loss: tensor(1.0101)\n",
            "epoch: 32 loss: tensor(1.0072)\n",
            "epoch: 33 loss: tensor(1.0068)\n",
            "epoch: 34 loss: tensor(1.0028)\n",
            "epoch: 35 loss: tensor(1.0023)\n",
            "epoch: 36 loss: tensor(1.0005)\n",
            "epoch: 37 loss: tensor(0.9989)\n",
            "epoch: 38 loss: tensor(0.9971)\n",
            "epoch: 39 loss: tensor(0.9945)\n",
            "epoch: 40 loss: tensor(0.9925)\n",
            "epoch: 41 loss: tensor(0.9919)\n",
            "epoch: 42 loss: tensor(0.9882)\n",
            "epoch: 43 loss: tensor(0.9871)\n",
            "epoch: 44 loss: tensor(0.9857)\n",
            "epoch: 45 loss: tensor(0.9820)\n",
            "epoch: 46 loss: tensor(0.9770)\n",
            "epoch: 47 loss: tensor(0.9766)\n",
            "epoch: 48 loss: tensor(0.9754)\n",
            "epoch: 49 loss: tensor(0.9770)\n",
            "epoch: 50 loss: tensor(0.9777)\n",
            "epoch: 51 loss: tensor(0.9757)\n",
            "epoch: 52 loss: tensor(0.9741)\n",
            "epoch: 53 loss: tensor(0.9779)\n",
            "epoch: 54 loss: tensor(0.9765)\n",
            "epoch: 55 loss: tensor(0.9716)\n",
            "epoch: 56 loss: tensor(0.9772)\n",
            "epoch: 57 loss: tensor(0.9716)\n",
            "epoch: 58 loss: tensor(0.9738)\n",
            "epoch: 59 loss: tensor(0.9748)\n",
            "epoch: 60 loss: tensor(0.9773)\n",
            "epoch: 61 loss: tensor(0.9736)\n",
            "epoch: 62 loss: tensor(0.9702)\n",
            "epoch: 63 loss: tensor(0.9719)\n",
            "epoch: 64 loss: tensor(0.9711)\n",
            "epoch: 65 loss: tensor(0.9730)\n",
            "epoch: 66 loss: tensor(0.9684)\n",
            "epoch: 67 loss: tensor(0.9714)\n",
            "epoch: 68 loss: tensor(0.9697)\n",
            "epoch: 69 loss: tensor(0.9783)\n",
            "epoch: 70 loss: tensor(0.9713)\n",
            "epoch: 71 loss: tensor(0.9717)\n",
            "epoch: 72 loss: tensor(0.9633)\n",
            "epoch: 73 loss: tensor(0.9604)\n",
            "epoch: 74 loss: tensor(0.9596)\n",
            "epoch: 75 loss: tensor(0.9597)\n",
            "epoch: 76 loss: tensor(0.9570)\n",
            "epoch: 77 loss: tensor(0.9563)\n",
            "epoch: 78 loss: tensor(0.9536)\n",
            "epoch: 79 loss: tensor(0.9532)\n",
            "epoch: 80 loss: tensor(0.9500)\n",
            "epoch: 81 loss: tensor(0.9518)\n",
            "epoch: 82 loss: tensor(0.9487)\n",
            "epoch: 83 loss: tensor(0.9489)\n",
            "epoch: 84 loss: tensor(0.9467)\n",
            "epoch: 85 loss: tensor(0.9471)\n",
            "epoch: 86 loss: tensor(0.9437)\n",
            "epoch: 87 loss: tensor(0.9455)\n",
            "epoch: 88 loss: tensor(0.9435)\n",
            "epoch: 89 loss: tensor(0.9448)\n",
            "epoch: 90 loss: tensor(0.9417)\n",
            "epoch: 91 loss: tensor(0.9425)\n",
            "epoch: 92 loss: tensor(0.9408)\n",
            "epoch: 93 loss: tensor(0.9416)\n",
            "epoch: 94 loss: tensor(0.9395)\n",
            "epoch: 95 loss: tensor(0.9404)\n",
            "epoch: 96 loss: tensor(0.9383)\n",
            "epoch: 97 loss: tensor(0.9393)\n",
            "epoch: 98 loss: tensor(0.9378)\n",
            "epoch: 99 loss: tensor(0.9385)\n",
            "epoch: 100 loss: tensor(0.9361)\n",
            "epoch: 101 loss: tensor(0.9372)\n",
            "epoch: 102 loss: tensor(0.9357)\n",
            "epoch: 103 loss: tensor(0.9363)\n",
            "epoch: 104 loss: tensor(0.9347)\n",
            "epoch: 105 loss: tensor(0.9350)\n",
            "epoch: 106 loss: tensor(0.9346)\n",
            "epoch: 107 loss: tensor(0.9350)\n",
            "epoch: 108 loss: tensor(0.9341)\n",
            "epoch: 109 loss: tensor(0.9336)\n",
            "epoch: 110 loss: tensor(0.9332)\n",
            "epoch: 111 loss: tensor(0.9331)\n",
            "epoch: 112 loss: tensor(0.9322)\n",
            "epoch: 113 loss: tensor(0.9327)\n",
            "epoch: 114 loss: tensor(0.9317)\n",
            "epoch: 115 loss: tensor(0.9314)\n",
            "epoch: 116 loss: tensor(0.9308)\n",
            "epoch: 117 loss: tensor(0.9310)\n",
            "epoch: 118 loss: tensor(0.9316)\n",
            "epoch: 119 loss: tensor(0.9305)\n",
            "epoch: 120 loss: tensor(0.9285)\n",
            "epoch: 121 loss: tensor(0.9291)\n",
            "epoch: 122 loss: tensor(0.9287)\n",
            "epoch: 123 loss: tensor(0.9285)\n",
            "epoch: 124 loss: tensor(0.9283)\n",
            "epoch: 125 loss: tensor(0.9285)\n",
            "epoch: 126 loss: tensor(0.9275)\n",
            "epoch: 127 loss: tensor(0.9271)\n",
            "epoch: 128 loss: tensor(0.9275)\n",
            "epoch: 129 loss: tensor(0.9269)\n",
            "epoch: 130 loss: tensor(0.9262)\n",
            "epoch: 131 loss: tensor(0.9258)\n",
            "epoch: 132 loss: tensor(0.9259)\n",
            "epoch: 133 loss: tensor(0.9253)\n",
            "epoch: 134 loss: tensor(0.9247)\n",
            "epoch: 135 loss: tensor(0.9246)\n",
            "epoch: 136 loss: tensor(0.9247)\n",
            "epoch: 137 loss: tensor(0.9243)\n",
            "epoch: 138 loss: tensor(0.9238)\n",
            "epoch: 139 loss: tensor(0.9236)\n",
            "epoch: 140 loss: tensor(0.9232)\n",
            "epoch: 141 loss: tensor(0.9231)\n",
            "epoch: 142 loss: tensor(0.9227)\n",
            "epoch: 143 loss: tensor(0.9229)\n",
            "epoch: 144 loss: tensor(0.9223)\n",
            "epoch: 145 loss: tensor(0.9220)\n",
            "epoch: 146 loss: tensor(0.9217)\n",
            "epoch: 147 loss: tensor(0.9216)\n",
            "epoch: 148 loss: tensor(0.9211)\n",
            "epoch: 149 loss: tensor(0.9210)\n",
            "epoch: 150 loss: tensor(0.9209)\n",
            "epoch: 151 loss: tensor(0.9208)\n",
            "epoch: 152 loss: tensor(0.9208)\n",
            "epoch: 153 loss: tensor(0.9204)\n",
            "epoch: 154 loss: tensor(0.9201)\n",
            "epoch: 155 loss: tensor(0.9198)\n",
            "epoch: 156 loss: tensor(0.9197)\n",
            "epoch: 157 loss: tensor(0.9198)\n",
            "epoch: 158 loss: tensor(0.9201)\n",
            "epoch: 159 loss: tensor(0.9199)\n",
            "epoch: 160 loss: tensor(0.9195)\n",
            "epoch: 161 loss: tensor(0.9189)\n",
            "epoch: 162 loss: tensor(0.9189)\n",
            "epoch: 163 loss: tensor(0.9189)\n",
            "epoch: 164 loss: tensor(0.9184)\n",
            "epoch: 165 loss: tensor(0.9184)\n",
            "epoch: 166 loss: tensor(0.9181)\n",
            "epoch: 167 loss: tensor(0.9179)\n",
            "epoch: 168 loss: tensor(0.9177)\n",
            "epoch: 169 loss: tensor(0.9177)\n",
            "epoch: 170 loss: tensor(0.9176)\n",
            "epoch: 171 loss: tensor(0.9178)\n",
            "epoch: 172 loss: tensor(0.9174)\n",
            "epoch: 173 loss: tensor(0.9173)\n",
            "epoch: 174 loss: tensor(0.9169)\n",
            "epoch: 175 loss: tensor(0.9168)\n",
            "epoch: 176 loss: tensor(0.9169)\n",
            "epoch: 177 loss: tensor(0.9168)\n",
            "epoch: 178 loss: tensor(0.9165)\n",
            "epoch: 179 loss: tensor(0.9162)\n",
            "epoch: 180 loss: tensor(0.9158)\n",
            "epoch: 181 loss: tensor(0.9160)\n",
            "epoch: 182 loss: tensor(0.9159)\n",
            "epoch: 183 loss: tensor(0.9158)\n",
            "epoch: 184 loss: tensor(0.9155)\n",
            "epoch: 185 loss: tensor(0.9156)\n",
            "epoch: 186 loss: tensor(0.9156)\n",
            "epoch: 187 loss: tensor(0.9151)\n",
            "epoch: 188 loss: tensor(0.9151)\n",
            "epoch: 189 loss: tensor(0.9149)\n",
            "epoch: 190 loss: tensor(0.9151)\n",
            "epoch: 191 loss: tensor(0.9150)\n",
            "epoch: 192 loss: tensor(0.9148)\n",
            "epoch: 193 loss: tensor(0.9146)\n",
            "epoch: 194 loss: tensor(0.9142)\n",
            "epoch: 195 loss: tensor(0.9142)\n",
            "epoch: 196 loss: tensor(0.9138)\n",
            "epoch: 197 loss: tensor(0.9139)\n",
            "epoch: 198 loss: tensor(0.9138)\n",
            "epoch: 199 loss: tensor(0.9134)\n",
            "epoch: 200 loss: tensor(0.9133)\n"
          ],
          "name": "stdout"
        }
      ]
    },
    {
      "cell_type": "markdown",
      "metadata": {
        "id": "Bak5uc8gd-gX"
      },
      "source": [
        "## Testing the SAE\n"
      ]
    },
    {
      "cell_type": "code",
      "metadata": {
        "id": "4XnE63v1kydV",
        "outputId": "62b528e2-ea50-48ef-f053-b3dbdc2864e6",
        "colab": {
          "base_uri": "https://localhost:8080/"
        }
      },
      "source": [
        "test_loss = 0\n",
        "s = 0.\n",
        "for id_user in range(nb_users):\n",
        "  input = Variable(training_set[id_user]).unsqueeze(0)\n",
        "  target = Variable(test_set[id_user]).unsqueeze(0)\n",
        "  if torch.sum(target.data > 0) > 0:\n",
        "    output = sae(input)\n",
        "    target.require_grad = False\n",
        "    output[target == 0] = 0\n",
        "    loss = criterion(output, target)\n",
        "    mean_corrector = nb_movies/float(torch.sum(target.data > 0) + 1e-10)\n",
        "    test_loss += np.sqrt(loss.data*mean_corrector)\n",
        "    s += 1.\n",
        "\n",
        "print ('Loss: ' + str(test_loss/s))"
      ],
      "execution_count": 65,
      "outputs": [
        {
          "output_type": "stream",
          "text": [
            "Loss: tensor(0.9496)\n"
          ],
          "name": "stdout"
        }
      ]
    }
  ]
}